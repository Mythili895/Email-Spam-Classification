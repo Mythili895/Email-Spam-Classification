{
 "cells": [
  {
   "cell_type": "code",
   "execution_count": 1,
   "metadata": {
    "collapsed": true
   },
   "outputs": [],
   "source": [
    "import numpy as np\n",
    "import pandas as pd\n",
    "import os\n",
    "import re\n",
    "import nltk\n",
    "from collections import Counter\n",
    "from nltk.tokenize import word_tokenize"
   ]
  },
  {
   "cell_type": "code",
   "execution_count": 2,
   "metadata": {
    "collapsed": true
   },
   "outputs": [],
   "source": [
    "abs_path = os.path.dirname(r'''C:\\Users\\Mythili Sivakumar\\Desktop\\Naive_bayes\\\\''')"
   ]
  },
  {
   "cell_type": "code",
   "execution_count": 3,
   "metadata": {
    "collapsed": true
   },
   "outputs": [],
   "source": [
    "file_path_test = os.path.join(abs_path,\"test-mails\")\n",
    "file_path_train = os.path.join(abs_path,\"train-mails\")"
   ]
  },
  {
   "cell_type": "code",
   "execution_count": 4,
   "metadata": {
    "collapsed": true
   },
   "outputs": [],
   "source": [
    "#creating dictionary of words \n",
    "#preprcessing and cleaning by removing stop words and taking 3000 most common words only\n",
    "def dictionary(dicti):\n",
    "    cnt = Counter()\n",
    "    for i in os.listdir(file_path_train):\n",
    "        f = open(os.path.join(file_path_train,i))\n",
    "        dicti = dicti + word_tokenize(f.read())\n",
    "    d = Counter(dicti) \n",
    "    d =  d.most_common(3000)\n",
    "    d = {i:v for i,v in d if i.isalpha()}\n",
    "    return d\n",
    "                    \n",
    "diction = dictionary([])\n"
   ]
  },
  {
   "cell_type": "code",
   "execution_count": 5,
   "metadata": {
    "collapsed": true
   },
   "outputs": [],
   "source": [
    "#feature extraction : \n",
    "def extract_features(directory):\n",
    "    \n",
    "    features = np.zeros((len(os.listdir(directory)),3000))\n",
    "    classes = np.zeros((len(os.listdir(directory))))\n",
    "    for n,i in enumerate(os.listdir(directory)):\n",
    "        #print (n,i)\n",
    "        f = open(os.path.join(directory,i))\n",
    "        words = word_tokenize(f.read())\n",
    "        \n",
    "        for j,w in enumerate(diction):\n",
    "            features[n,j] = words.count(w)\n",
    "        if re.search(\"spm\",i):\n",
    "            #print (i)\n",
    "            classes[n] =  1 #spam message is labeled as 1\n",
    "        else:\n",
    "            classes[n] = 0  #not spam - is labeled as 0\n",
    "        \n",
    "    return features , classes"
   ]
  },
  {
   "cell_type": "code",
   "execution_count": null,
   "metadata": {},
   "outputs": [],
   "source": [
    "from sklearn.naive_bayes import GaussianNB\n",
    "def naive_bayes():\n",
    "    train_features , train_classes = extract_features(file_path_train)\n",
    "    test_features , actual_classes = extract_features(file_path_test)\n",
    "    model = GaussianNB()\n",
    "    model.fit(train_features, train_classes)\n",
    "    predicted_labels = model.predict(test_features)\n",
    "\n",
    "    from sklearn.metrics import accuracy_score\n",
    "    accuracy = accuracy_score(actual_classes, predicted_labels)\n",
    "    #print (actual_classes)\n",
    "    #print(predicted_labels)\n",
    "    print (accuracy)\n",
    "    \n",
    "\n",
    "\n",
    "naive_bayes()\n",
    "    \n",
    "    \n",
    "\n"
   ]
  }
 ],
 "metadata": {
  "kernelspec": {
   "display_name": "Python 3",
   "language": "python",
   "name": "python3"
  },
  "language_info": {
   "codemirror_mode": {
    "name": "ipython",
    "version": 3
   },
   "file_extension": ".py",
   "mimetype": "text/x-python",
   "name": "python",
   "nbconvert_exporter": "python",
   "pygments_lexer": "ipython3",
   "version": "3.6.3"
  }
 },
 "nbformat": 4,
 "nbformat_minor": 2
}
